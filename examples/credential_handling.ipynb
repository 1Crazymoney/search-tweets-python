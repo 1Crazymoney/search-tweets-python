{
 "cells": [
  {
   "cell_type": "markdown",
   "metadata": {},
   "source": [
    "# Credential Handling\n",
    "\n",
    "The premium and enterprise Search APIs use different authentication methods and we attempt to provide a seamless way to handle authentication for all customers. \n",
    "We support both YAML-file based methods and environment variables for access.\n",
    "\n",
    "A YAML credential file should look like this:\n",
    "\n",
    "```.yaml\n",
    "\n",
    "<key>:\n",
    "  account_type: <OPTIONAL PREMIUM_OR_ENTERPRISE>\n",
    "  endpoint: <FULL_URL_OF_ENDPOINT>\n",
    "  username: <USERNAME>\n",
    "  password: <PW>\n",
    "  bearer_token: <TOKEN>\n",
    "```\n",
    "\n",
    "Premium clients will require the `bearer_token` and `endpoint` fields; Enterprise clients require `username`, `password`, and `endpoint`. If you do not specify the `account_type`, we attempt to discern the account type and declare a warning about this behavior. The `load_credentials` function also allows `account_type` to be set.\n",
    "\n",
    "Our credential reader will look for this file at `\"~/.twitter_keys.yaml\"`, but you can pass the relevant location as needed.\n",
    "You can also specify a different key in the yaml file, which can be useful if you have different endpoints, e.g., `dev`, `test`, `prod`, etc. The file might look like this:\n",
    "\n",
    "\n",
    "```.yaml\n",
    "\n",
    "search_tweets_dev:\n",
    "  account_type: premium\n",
    "  endpoint: <FULL_URL_OF_ENDPOINT>\n",
    "  bearer_token: <TOKEN>\n",
    "  \n",
    "search_tweets_prod:\n",
    "  account_type: premium\n",
    "  endpoint: <FULL_URL_OF_ENDPOINT>\n",
    "  bearer_token: <TOKEN>\n",
    "  \n",
    "```\n",
    "\n",
    "If you want or need to pass credentials via environment variables, you can set the appropriate variables of the following: \n",
    "\n",
    "```\n",
    "export SEARCHTWEETS_ENDPOINT=\n",
    "export SEARCHTWEETS_USERNAME=\n",
    "export SEARCHTWEETS_PASSWORD=\n",
    "export SEARCHTWEETS_BEARER_TOKEN=\n",
    "export SEARCHTWEETS_ACCOUNT_TYPE=\n",
    "```\n",
    "\n",
    "The `load_credentials` function will attempt to find these variables if it cannot load fields from the yaml file, and it will **overwrite any found credentials from the YAML file** if they have been parsed. This behavior can be changed by setting the `load_credentials` parameter `env_overwrite` to `False`.\n",
    "\n",
    "\n",
    "The following cells demonstrates credential handling, both in the command line app and Python library."
   ]
  },
  {
   "cell_type": "code",
   "execution_count": 1,
   "metadata": {
    "collapsed": true
   },
   "outputs": [],
   "source": [
    "from searchtweets import load_credentials"
   ]
  },
  {
   "cell_type": "code",
   "execution_count": 2,
   "metadata": {},
   "outputs": [
    {
     "data": {
      "text/plain": [
       "{'endpoint': '<MY_ENDPOINT>',\n",
       " 'password': '<MY_PASSWORD>',\n",
       " 'username': '<MY_USERNAME>'}"
      ]
     },
     "execution_count": 2,
     "metadata": {},
     "output_type": "execute_result"
    }
   ],
   "source": [
    "load_credentials(filename=\"./search_tweets_creds_example.yaml\",\n",
    "                 yaml_key=\"search_tweets_ent_example\",\n",
    "                 env_overwrite=False)"
   ]
  },
  {
   "cell_type": "code",
   "execution_count": 3,
   "metadata": {},
   "outputs": [
    {
     "data": {
      "text/plain": [
       "{'bearer_token': '<A_VERY_LONG_MAGIC_STRING>',\n",
       " 'endpoint': 'https://api.twitter.com/1.1/tweets/search/30day/dev.json'}"
      ]
     },
     "execution_count": 3,
     "metadata": {},
     "output_type": "execute_result"
    }
   ],
   "source": [
    "load_credentials(filename=\"./search_tweets_creds_example.yaml\",\n",
    "                 yaml_key=\"search_tweets_premium_example\",\n",
    "                 env_overwrite=False)"
   ]
  },
  {
   "cell_type": "markdown",
   "metadata": {},
   "source": [
    "## Environment Variable Overrides\n",
    "\n",
    "If we set our environment variables, the program will look for them regardless of a YAML file's validity or existence."
   ]
  },
  {
   "cell_type": "code",
   "execution_count": 4,
   "metadata": {},
   "outputs": [
    {
     "name": "stderr",
     "output_type": "stream",
     "text": [
      "cannot read file nothing\n",
      "Error parsing YAML file; searching for valid environment variables\n"
     ]
    },
    {
     "data": {
      "text/plain": [
       "{'endpoint': 'https://endpoint',\n",
       " 'password': 'ENV_PW',\n",
       " 'username': 'ENV_USERNAME'}"
      ]
     },
     "execution_count": 4,
     "metadata": {},
     "output_type": "execute_result"
    }
   ],
   "source": [
    "import os\n",
    "os.environ[\"SEARCHTWEETS_USERNAME\"] = \"ENV_USERNAME\"\n",
    "os.environ[\"SEARCHTWEETS_PASSWORD\"] = \"ENV_PW\"\n",
    "os.environ[\"SEARCHTWEETS_ENDPOINT\"] = \"https://endpoint\"\n",
    "\n",
    "load_credentials(filename=\"nothing\", yaml_key=\"no_key_here\")"
   ]
  }
 ],
 "metadata": {
  "kernelspec": {
   "display_name": "Python 3",
   "language": "python",
   "name": "python3"
  },
  "language_info": {
   "codemirror_mode": {
    "name": "ipython",
    "version": 3
   },
   "file_extension": ".py",
   "mimetype": "text/x-python",
   "name": "python",
   "nbconvert_exporter": "python",
   "pygments_lexer": "ipython3",
   "version": "3.6.1"
  }
 },
 "nbformat": 4,
 "nbformat_minor": 2
}
