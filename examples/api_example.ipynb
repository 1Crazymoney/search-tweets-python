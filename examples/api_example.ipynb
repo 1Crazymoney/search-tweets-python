{
 "cells": [
  {
   "cell_type": "markdown",
   "metadata": {},
   "source": [
    "# Using the Twitter Search API\n",
    "\n",
    "Working with the API within a Python program is straightforward both for Premium and Enterprise clients.\n",
    "\n",
    "Our group's python [tweet parser library](https://github.com/twitterdev/tweet_parser) is a requirement.\n",
    "\n",
    "\n",
    "Prior to starting your program, an easy way to define your secrets will be setting an environment variable. If you are an enterprise client, your authentication will be a (username, password) pair. If you are a premium client, you'll need to get a bearer token that will be passed with each call for authentication.\n",
    "\n",
    "```\n",
    "export TWITTER_SEARCH_PW=<password>\n",
    "export TWITTER_SEARCH_ACCOUNT_NAME=<account_name>\n",
    "export TWITTER_SEARCH_BEARER_TOKEN=<token>\n",
    "```\n",
    "\n",
    "\n",
    "The other points that you will have to set in the program are your endpoint, the api you want to use. There are functions to generate correct API endpoints from this info as well as flags to use the `counts` endpoint instead of the regular endpoint.\n",
    "\n",
    "The following cell demonstrates the basic setup that will be referenced throughout your program's session. Note that any method of storing your credentials is valid here; I am using environment variables for ease of use."
   ]
  },
  {
   "cell_type": "code",
   "execution_count": 1,
   "metadata": {
    "collapsed": true
   },
   "outputs": [],
   "source": [
    "import os\n",
    "import json\n",
    "from twittersearch import ResultStream, gen_rule_payload"
   ]
  },
  {
   "cell_type": "markdown",
   "metadata": {},
   "source": [
    "## Enterprise setup\n",
    "\n",
    "If you are an enterprise customer, you'll need to authenticate with a basic username/password method. You can specify that here:"
   ]
  },
  {
   "cell_type": "code",
   "execution_count": 22,
   "metadata": {
    "collapsed": true
   },
   "outputs": [],
   "source": [
    "# set your environment variables here for enterprise access if you need to\n",
    "# os.environ[\"TWITTER_SEARCH_ACCOUNT_NAME\"] = \"\"\n",
    "# os.environ[\"TWITTER_SEARCH_PW\"] = \"\"\n",
    "\n",
    "enterprise_endpoint = \"<ENTER YOUR ENDPOINT HERE>\"\n",
    "enterprise_search_args = {\"username\": \"agonzales@twitter.com\",\n",
    "                          \"password\": os.environ[\"TWITTER_SEARCH_PW\"],\n",
    "                          \"endpoint\": enterprise_endpoint\n",
    "                         }"
   ]
  },
  {
   "cell_type": "markdown",
   "metadata": {},
   "source": [
    "## Premium Setup\n",
    "\n",
    "Premium customers will use a bearer token for authentication. Use the following cell for setup:"
   ]
  },
  {
   "cell_type": "code",
   "execution_count": 23,
   "metadata": {},
   "outputs": [
    {
     "name": "stdout",
     "output_type": "stream",
     "text": [
      "https://api.twitter.com/1.1/tweets/search/30day/dev.json\n"
     ]
    }
   ],
   "source": [
    "# set your environment variables here for premium access if you need to\n",
    "# os.environ[\"TWITTER_SEARCH_BEARER_TOKEN\"] = \"\"\n",
    "\n",
    "premium_search_endpoint = \"https://api.twitter.com/1.1/tweets/search/30day/dev.json\"\n",
    "\n",
    "premium_search_args = {\"bearer_token\": os.environ[\"TWITTER_SEARCH_BEARER_TOKEN\"],\n",
    "                       \"endpoint\": premium_search_endpoint,\n",
    "                      }\n",
    "\n",
    "print(premium_search_endpoint)"
   ]
  },
  {
   "cell_type": "markdown",
   "metadata": {},
   "source": [
    "There is a function that formats search API rules into valid json queries called `gen_rule_payload`. It has sensible defaults, such as pulling more tweets per call than the default 100 (but note that a sandbox environment can only have a max of 100 here, so if you get errors, please check this) not including dates, and defaulting to hourly counts when using the counts api. Discussing the finer points of generating search rules is out of scope for these examples; I encourage you to see the docs to learn the nuances within, but for now let's see what a rule looks like."
   ]
  },
  {
   "cell_type": "code",
   "execution_count": 24,
   "metadata": {},
   "outputs": [
    {
     "name": "stdout",
     "output_type": "stream",
     "text": [
      "{\"query\":\"@robotprincessfi\",\"maxResults\":100}\n"
     ]
    }
   ],
   "source": [
    "rule = gen_rule_payload(\"@robotprincessfi\", max_results=100) # testing with a sandbox account\n",
    "print(rule)"
   ]
  },
  {
   "cell_type": "markdown",
   "metadata": {},
   "source": [
    "This rule will match tweets that mention `@robotprincessfi`."
   ]
  },
  {
   "cell_type": "markdown",
   "metadata": {},
   "source": [
    "From this point, there are two ways to interact with the API. There is a quick method to collect smaller amounts of tweets to memory that requires less thought and knowledge, and interaction with the `ResultStream` object which will be introduced later.\n",
    "\n",
    "\n",
    "## Fast Way\n",
    "\n",
    "We'll use the `search_args` variable to power the configuration point for the API. The object also takes a valid PowerTrack rule and has options to cutoff search when hitting limits on both number of tweets and API calls.\n",
    "\n",
    "We'll be using the `collect_results` function, which has three parameters.\n",
    "\n",
    "- rule: a valid powertrack rule, referenced earlier\n",
    "- max_results: as the api handles pagination, it will stop collecting when we get to this number\n",
    "- result_stream_args: configuration args that we've already specified.\n",
    "\n",
    "\n",
    "For the remaining examples, please change the args to either premium or enterprise depending on your usage.\n",
    "\n",
    "Let's see how it goes:"
   ]
  },
  {
   "cell_type": "code",
   "execution_count": 5,
   "metadata": {
    "collapsed": true
   },
   "outputs": [],
   "source": [
    "from twittersearch import collect_results"
   ]
  },
  {
   "cell_type": "code",
   "execution_count": 6,
   "metadata": {},
   "outputs": [
    {
     "name": "stderr",
     "output_type": "stream",
     "text": [
      "using bearer token for authentication\n"
     ]
    }
   ],
   "source": [
    "tweets = collect_results(rule, max_results=500, result_stream_args=premium_search_args) # change this if you need to"
   ]
  },
  {
   "cell_type": "markdown",
   "metadata": {},
   "source": [
    "By default, tweet payloads are lazily parsed into a `Tweet` object. An overwhelming number of tweet attributes are made available directly, as such:"
   ]
  },
  {
   "cell_type": "code",
   "execution_count": 7,
   "metadata": {},
   "outputs": [
    {
     "data": {
      "text/plain": [
       "[('920754829873606657', \"@ericmbudd I'm super cute.\", []),\n",
       " ('920754352716783616', \"@RobotPrincessFi that's super cute\", []),\n",
       " ('920543141614067712', '@RobotPrincessFi https://t.co/z6AioxZkwE', []),\n",
       " ('920383435209891841', '@robotprincessfi hi there Fiona', [])]"
      ]
     },
     "execution_count": 7,
     "metadata": {},
     "output_type": "execute_result"
    }
   ],
   "source": [
    "[(tweet.id, tweet.all_text, tweet.hashtags) for tweet in tweets[0:10]]"
   ]
  },
  {
   "cell_type": "markdown",
   "metadata": {},
   "source": [
    "Voila, we have some tweets. For interactive environments and other cases where you don't care about collecting your data in a single load or don't need to operate on the stream of tweets or counts directly, I recommend using this convenience function.\n",
    "\n",
    "\n",
    "## Working with the ResultStream\n",
    "\n",
    "The ResultStream object will be powered by the `search_args`, and takes the rules and other configuration parameters, including a hard stop on number of pages to limit your API call usage."
   ]
  },
  {
   "cell_type": "code",
   "execution_count": 25,
   "metadata": {
    "collapsed": true
   },
   "outputs": [],
   "source": [
    "rs = ResultStream(**premium_search_args, rule_payload=rule, max_results=500, max_pages=1, )"
   ]
  },
  {
   "cell_type": "code",
   "execution_count": 26,
   "metadata": {},
   "outputs": [
    {
     "name": "stdout",
     "output_type": "stream",
     "text": [
      "ResultStream: \n",
      "\t{\n",
      "    \"username\":null,\n",
      "    \"endpoint\":\"https:\\/\\/api.twitter.com\\/1.1\\/tweets\\/search\\/30day\\/dev.json\",\n",
      "    \"rule_payload\":{\n",
      "        \"query\":\"@robotprincessfi\",\n",
      "        \"maxResults\":100\n",
      "    },\n",
      "    \"tweetify\":true,\n",
      "    \"max_results\":500\n",
      "}\n"
     ]
    }
   ],
   "source": [
    "print(rs)"
   ]
  },
  {
   "cell_type": "markdown",
   "metadata": {},
   "source": [
    "There is a function, `.stream`, that seamlessly handles requests and pagination for a given query. It returns a generator, and to grab our 500 tweets that mention `@robotprincessfi` we can do this:"
   ]
  },
  {
   "cell_type": "code",
   "execution_count": 10,
   "metadata": {},
   "outputs": [
    {
     "name": "stderr",
     "output_type": "stream",
     "text": [
      "using bearer token for authentication\n"
     ]
    }
   ],
   "source": [
    "tweets = list(rs.stream())"
   ]
  },
  {
   "cell_type": "markdown",
   "metadata": {},
   "source": [
    "Tweets are lazily parsed using our Tweet Parser, so tweet data is very easily extractable."
   ]
  },
  {
   "cell_type": "code",
   "execution_count": 11,
   "metadata": {},
   "outputs": [
    {
     "data": {
      "text/plain": [
       "[('920754829873606657', \"@ericmbudd I'm super cute.\", []),\n",
       " ('920754352716783616', \"@RobotPrincessFi that's super cute\", []),\n",
       " ('920543141614067712', '@RobotPrincessFi https://t.co/z6AioxZkwE', []),\n",
       " ('920383435209891841', '@robotprincessfi hi there Fiona', [])]"
      ]
     },
     "execution_count": 11,
     "metadata": {},
     "output_type": "execute_result"
    }
   ],
   "source": [
    "[(tweet.id, tweet.all_text, tweet.hashtags) for tweet in tweets[0:10]]"
   ]
  },
  {
   "cell_type": "markdown",
   "metadata": {},
   "source": [
    "## Counts API\n",
    "\n",
    "We can also use the counts api to get counts of tweets that match our rule. Each request will return up to *30* results, and each count request can be done on a minutely, hourly, or daily basis. There is a utility function that will convert your regular endpoint to the count endpoint.\n",
    "\n",
    "The process is very similar to grabbing tweets, but has some minor differneces.\n",
    "\n",
    "\n",
    "**Caveat - premium sandbox environments do NOT have access to the counts API.**\n",
    "\n"
   ]
  },
  {
   "cell_type": "code",
   "execution_count": 23,
   "metadata": {},
   "outputs": [
    {
     "name": "stderr",
     "output_type": "stream",
     "text": [
      "using username and password for authentication\n"
     ]
    }
   ],
   "source": [
    "from twittersearch import change_to_count_endpoint\n",
    "count_endpoint = change_to_count_endpoint(\"https://gnip-api.twitter.com/search/fullarchive/accounts/shendrickson/ogformat.json\")\n",
    "\n",
    "count_args = {\"username\": \"agonzales@twitter.com\",\n",
    "                          \"password\": os.environ[\"TWITTER_SEARCH_PW\"],\n",
    "                          \"endpoint\": count_endpoint,\n",
    "                         }\n",
    "\n",
    "count_rule = gen_rule_payload(\"beyonce\", count_bucket=\"day\")\n",
    "\n",
    "counts = collect_results(count_rule, result_stream_args=count_args)"
   ]
  },
  {
   "cell_type": "markdown",
   "metadata": {},
   "source": [
    "Our results are pretty straightforward and can be rapidly used."
   ]
  },
  {
   "cell_type": "code",
   "execution_count": 29,
   "metadata": {},
   "outputs": [
    {
     "data": {
      "text/plain": [
       "[{'count': 135320, 'timePeriod': '201711100000'},\n",
       " {'count': 68532, 'timePeriod': '201711090000'},\n",
       " {'count': 67138, 'timePeriod': '201711080000'},\n",
       " {'count': 73017, 'timePeriod': '201711070000'},\n",
       " {'count': 52290, 'timePeriod': '201711060000'},\n",
       " {'count': 79338, 'timePeriod': '201711050000'},\n",
       " {'count': 200519, 'timePeriod': '201711040000'},\n",
       " {'count': 160512, 'timePeriod': '201711030000'},\n",
       " {'count': 220683, 'timePeriod': '201711020000'},\n",
       " {'count': 190959, 'timePeriod': '201711010000'},\n",
       " {'count': 121580, 'timePeriod': '201710310000'},\n",
       " {'count': 39473, 'timePeriod': '201710300000'},\n",
       " {'count': 35441, 'timePeriod': '201710290000'},\n",
       " {'count': 36198, 'timePeriod': '201710280000'},\n",
       " {'count': 36149, 'timePeriod': '201710270000'},\n",
       " {'count': 34197, 'timePeriod': '201710260000'},\n",
       " {'count': 41497, 'timePeriod': '201710250000'},\n",
       " {'count': 47648, 'timePeriod': '201710240000'},\n",
       " {'count': 49087, 'timePeriod': '201710230000'},\n",
       " {'count': 44945, 'timePeriod': '201710220000'},\n",
       " {'count': 54865, 'timePeriod': '201710210000'},\n",
       " {'count': 74324, 'timePeriod': '201710200000'},\n",
       " {'count': 76643, 'timePeriod': '201710190000'},\n",
       " {'count': 115587, 'timePeriod': '201710180000'},\n",
       " {'count': 82581, 'timePeriod': '201710170000'},\n",
       " {'count': 72372, 'timePeriod': '201710160000'},\n",
       " {'count': 64522, 'timePeriod': '201710150000'},\n",
       " {'count': 56092, 'timePeriod': '201710140000'},\n",
       " {'count': 80265, 'timePeriod': '201710130000'},\n",
       " {'count': 137717, 'timePeriod': '201710120000'},\n",
       " {'count': 86203, 'timePeriod': '201710110000'}]"
      ]
     },
     "execution_count": 29,
     "metadata": {},
     "output_type": "execute_result"
    }
   ],
   "source": [
    "counts"
   ]
  },
  {
   "cell_type": "markdown",
   "metadata": {},
   "source": [
    "## Dated searches / Full Archive Search\n",
    "\n",
    "\n",
    "Let's make a new rule and pass it dates this time.\n",
    "\n",
    "`gen_rule_payload` takes dates of the forms `YYYY-mm-DD` and `YYYYmmDD`.\n",
    "\n",
    "\n",
    "**Note that this will only work with the full archive search option**, which is available to my account only via the enterprise options. Full archive search will likely require a different endpoint or access method; please see your developer console for details."
   ]
  },
  {
   "cell_type": "code",
   "execution_count": 27,
   "metadata": {},
   "outputs": [
    {
     "name": "stdout",
     "output_type": "stream",
     "text": [
      "{\"query\":\"from:jack\",\"maxResults\":100,\"toDate\":\"201710300000\",\"fromDate\":\"201709010000\"}\n"
     ]
    }
   ],
   "source": [
    "rule = gen_rule_payload(\"from:jack\", from_date=\"2017-09-01\", to_date=\"2017-10-30\", max_results=100)\n",
    "print(rule)"
   ]
  },
  {
   "cell_type": "code",
   "execution_count": 16,
   "metadata": {},
   "outputs": [
    {
     "name": "stderr",
     "output_type": "stream",
     "text": [
      "using username and password for authentication\n"
     ]
    }
   ],
   "source": [
    "tweets = collect_results(rule, max_results=500, result_stream_args=enterprise_search_args)"
   ]
  },
  {
   "cell_type": "code",
   "execution_count": 17,
   "metadata": {},
   "outputs": [
    {
     "data": {
      "text/plain": [
       "[('2017-10-27 18:22:07',\n",
       "  'More clarity on our private information policy and enforcement. Working to build as much direct context into the product too https://t.co/IrwBexPrBA\\nTo provide more clarity on our private information policy, we’ve added specific examples of what is/is not a violation and insight into what we need to remove this type of content from the service. https://t.co/NGx5hh2tTQ',\n",
       "  []),\n",
       " ('2017-10-27 18:17:37',\n",
       "  'Launching violent groups and hateful images/symbols policy on November 22nd https://t.co/NaWuBPxyO5\\nWe will now launch our policies on violent groups and hateful imagery and hate symbols on Nov 22. During the development process, we received valuable feedback that we’re implementing before these are published and enforced. See more on our policy development process here 👇 https://t.co/wx3EeH39BI',\n",
       "  []),\n",
       " ('2017-10-27 01:25:39', '@WillStick @lizkelley Happy birthday Liz!', []),\n",
       " ('2017-10-26 14:24:05',\n",
       "  'Off-boarding advertising from all accounts owned by Russia Today (RT) and Sputnik.\\n\\nWe’re donating all projected earnings ($1.9mm) to support external research into the use of Twitter in elections, including use of malicious automation and misinformation. https://t.co/zIxfqqXCZr',\n",
       "  []),\n",
       " ('2017-10-26 13:50:40', '@TMFJMo @anthonynoto Thank you', []),\n",
       " ('2017-10-26 13:36:19', '@gasca @stratechery @Lefsetz letter', []),\n",
       " ('2017-10-26 13:35:57',\n",
       "  '@gasca @stratechery Bridgewater’s Daily Observations',\n",
       "  []),\n",
       " ('2017-10-26 02:40:25',\n",
       "  'Yup!!!! ❤️❤️❤️❤️ #davechappelle https://t.co/ybSGNrQpYF',\n",
       "  ['davechappelle']),\n",
       " ('2017-10-26 00:07:23', '@ndimichino Sometimes', []),\n",
       " ('2017-10-25 20:15:19',\n",
       "  'Setting up at @CampFlogGnaw https://t.co/nVq8QjkKsf',\n",
       "  [])]"
      ]
     },
     "execution_count": 17,
     "metadata": {},
     "output_type": "execute_result"
    }
   ],
   "source": [
    "[(str(tweet.created_at_datetime), tweet.all_text, tweet.hashtags) for tweet in tweets[0:10]]\n",
    "  "
   ]
  }
 ],
 "metadata": {
  "kernelspec": {
   "display_name": "Python 3",
   "language": "python",
   "name": "python3"
  },
  "language_info": {
   "codemirror_mode": {
    "name": "ipython",
    "version": 3
   },
   "file_extension": ".py",
   "mimetype": "text/x-python",
   "name": "python",
   "nbconvert_exporter": "python",
   "pygments_lexer": "ipython3",
   "version": "3.6.1"
  }
 },
 "nbformat": 4,
 "nbformat_minor": 2
}
