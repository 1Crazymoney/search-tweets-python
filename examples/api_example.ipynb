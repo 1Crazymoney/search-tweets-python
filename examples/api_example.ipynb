{
 "cells": [
  {
   "cell_type": "markdown",
   "metadata": {},
   "source": [
    "## Using the twitter search API\n",
    "\n",
    "Working with the API within a Python program is straightforward both for Premium and Enterprise clients. You can start by installing the api via\n",
    "\n",
    "`pip install twittersearch`\n",
    "\n",
    "Our group's python tweet parser library is a requirement.\n",
    "\n",
    "Prior to starting your program, an easy way to define your secrets will be setting an environment variable. If you are an enterprise client, your authentication will be a (username, password) pair. If you are a premium client, you'll need to get a bearer token that will be passed with each call for authentication.\n",
    "\n",
    "```\n",
    "export TWITTER_SEARCH_PW=<password>\n",
    "export TWITTER_SEARCH_ACCOUNT_NAME=<account_name>\n",
    "export TWITTER_SEARCH_BEARER_TOKEN=<token>\n",
    "```\n",
    "\n",
    "\n",
    "The other points that you will have to set in the program are your endpoint, the api you want to use. There are functions to generate correct API endpoints from this info as well as flags to use the `counts` endpoint instead of the regular endpoint.\n",
    "\n",
    "The following cell demonstrates the basic setup that will be referenced throughout your program's session."
   ]
  },
  {
   "cell_type": "code",
   "execution_count": 43,
   "metadata": {},
   "outputs": [
    {
     "name": "stdout",
     "output_type": "stream",
     "text": [
      "https://gnip-api.twitter.com/search/fullarchive/accounts/<account_name>/ogformat.json\n"
     ]
    }
   ],
   "source": [
    "import os\n",
    "import json\n",
    "from twittersearch import ResultStream, gen_endpoint, gen_rule_payload\n",
    "\n",
    "# set your environment variables here for enterprise access if you need to\n",
    "# os.environ[\"TWITTER_SEARCH_ACCOUNT_NAME\"] = \"\"\n",
    "# os.environ[\"TWITTER_SEARCH_PW\"] = \"\"\n",
    "# os.environ[\"TWITTER_SEARCH_BEARER_TOKEN\"] = \"\"\n",
    "\n",
    "\n",
    "username = \"agonzales@twitter.com\"\n",
    "search_api = \"fullarchive\"\n",
    "endpoint_label = \"ogformat.json\"\n",
    "account_kind = \"enterprise\"\n",
    "\n",
    "search_endpoint = gen_endpoint(kind=\"enterprise\", \n",
    "                               search_api=search_api,\n",
    "                               account_name=os.environ[\"TWITTER_SEARCH_ACCOUNT_NAME\"],\n",
    "                               label=endpoint_label,\n",
    "                               count_endpoint=False)\n",
    "\n",
    "search_args = {\"username\": username,\n",
    "               \"password\": os.environ[\"TWITTER_SEARCH_PW\"],\n",
    "               \"url\": search_endpoint,\n",
    "               }\n",
    "\n",
    "print(search_endpoint.replace(os.environ[\"TWITTER_SEARCH_ACCOUNT_NAME\"], '<account_name>'))"
   ]
  },
  {
   "cell_type": "markdown",
   "metadata": {},
   "source": [
    "There is a function that formats search API rules into valid json queries called `gen_rule_payload`. It has sensible defaults, such as pulling more tweets per call than the default 100, not including dates, and defaulting to hourly counts when using the counts api. Discussing the finer points of generating search rules is out of scope for these examples; I encourage you to see the docs to learn the nuances within, but for now let's see what a rule looks like."
   ]
  },
  {
   "cell_type": "code",
   "execution_count": 45,
   "metadata": {},
   "outputs": [
    {
     "name": "stdout",
     "output_type": "stream",
     "text": [
      "{\"query\":\"@robotprincessfi\",\"maxResults\":500}\n"
     ]
    }
   ],
   "source": [
    "rule = gen_rule_payload(\"@robotprincessfi\")\n",
    "print(rule)"
   ]
  },
  {
   "cell_type": "markdown",
   "metadata": {},
   "source": [
    "This rule will match tweets that mention `@robotprincessfi`."
   ]
  },
  {
   "cell_type": "markdown",
   "metadata": {},
   "source": [
    "We'll use the `search_args` variable to power the configuration point for the API. The object also takes a valid PowerTrack rule and has options to cutoff search when hitting limits on both number of tweets and API calls.\n",
    "\n",
    "Let's create a result stream:"
   ]
  },
  {
   "cell_type": "code",
   "execution_count": 4,
   "metadata": {},
   "outputs": [],
   "source": [
    "rs = ResultStream(**search_args, rule_payload=rule, max_tweets=500, max_pages=1)"
   ]
  },
  {
   "cell_type": "code",
   "execution_count": 59,
   "metadata": {},
   "outputs": [
    {
     "name": "stdout",
     "output_type": "stream",
     "text": [
      "ResultStream: \n",
      "\t{\n",
      "    \"username\":\"agonzales@twitter.com\",\n",
      "    \"url\":\"https:\\/\\/gnip-api.twitter.com\\/search\\/fullarchive\\/accounts\\/<account_name>\\/ogformat.json\",\n",
      "    \"rule_payload\":{\n",
      "        \"query\":\"@robotprincessfi\",\n",
      "        \"maxResults\":500\n",
      "    },\n",
      "    \"tweetify\":true,\n",
      "    \"max_tweets\":500\n",
      "}\n"
     ]
    }
   ],
   "source": [
    "print(str(rs).replace(os.environ[\"TWITTER_SEARCH_ACCOUNT_NAME\"], '<account_name>'))"
   ]
  },
  {
   "cell_type": "markdown",
   "metadata": {},
   "source": [
    "There is a function, `.stream`, that seamlessly handles requests and pagination for a given query. It returns a generator, and to grab our 500 tweets that mention `@robotprincessfi` we can do this:"
   ]
  },
  {
   "cell_type": "code",
   "execution_count": 47,
   "metadata": {},
   "outputs": [
    {
     "name": "stderr",
     "output_type": "stream",
     "text": [
      "using username and password for authentication\n"
     ]
    }
   ],
   "source": [
    "tweets = list(rs.stream())"
   ]
  },
  {
   "cell_type": "markdown",
   "metadata": {},
   "source": [
    "Tweets are lazily parsed using our Tweet Parser, so tweet data is very easily extractable."
   ]
  },
  {
   "cell_type": "code",
   "execution_count": 49,
   "metadata": {},
   "outputs": [
    {
     "data": {
      "text/plain": [
       "[('920754829873606657', \"@ericmbudd I'm super cute.\", []),\n",
       " ('920754352716783616', \"@RobotPrincessFi that's super cute\", []),\n",
       " ('920543141614067712', '@RobotPrincessFi https://t.co/z6AioxZkwE', []),\n",
       " ('920383435209891841', '@robotprincessfi hi there Fiona', [])]"
      ]
     },
     "execution_count": 49,
     "metadata": {},
     "output_type": "execute_result"
    }
   ],
   "source": [
    "[(tweet.id, tweet.all_text, tweet.hashtags) for tweet in tweets[0:10]]"
   ]
  },
  {
   "cell_type": "markdown",
   "metadata": {},
   "source": [
    "Let's make a new rule and pass it dates this time. `gen_rule_payload` takes dates of the forms `YYYY-mm-DD` and `YYYYmmDD`.\n",
    "\n",
    "There is also a convenience function that collects all tweets for a given query and configuration dict, useful in many situations. "
   ]
  },
  {
   "cell_type": "code",
   "execution_count": 52,
   "metadata": {},
   "outputs": [
    {
     "data": {
      "text/plain": [
       "'{\"query\":\"from:jack\",\"maxResults\":500,\"toDate\":\"201710150000\",\"fromDate\":\"201709010000\"}'"
      ]
     },
     "execution_count": 52,
     "metadata": {},
     "output_type": "execute_result"
    }
   ],
   "source": [
    "rule = gen_rule_payload(\"from:jack\", from_date=\"2017-09-01\", to_date=\"2017-10-15\")\n",
    "rule"
   ]
  },
  {
   "cell_type": "code",
   "execution_count": 53,
   "metadata": {},
   "outputs": [],
   "source": [
    "from twittersearch import collect_results"
   ]
  },
  {
   "cell_type": "code",
   "execution_count": 56,
   "metadata": {},
   "outputs": [
    {
     "name": "stderr",
     "output_type": "stream",
     "text": [
      "using username and password for authentication\n"
     ]
    }
   ],
   "source": [
    "tweets = collect_results(rule, max_tweets=500, result_stream_args=search_args)"
   ]
  },
  {
   "cell_type": "code",
   "execution_count": 57,
   "metadata": {},
   "outputs": [
    {
     "data": {
      "text/plain": [
       "[(datetime.datetime(2017, 10, 14, 22, 57, 23),\n",
       "  'RT @jenanmoussa: I love to see Palestinians dancing and having fun. Good &amp;positive stories deserve to go viral as well. Watch this: https:/…'),\n",
       " (datetime.datetime(2017, 10, 14, 22, 55, 25),\n",
       "  \"RT @chancetherapper: But don't argue with people on twitter about whether policies and laws are racist. Argue with your City Council and… \"),\n",
       " (datetime.datetime(2017, 10, 14, 21, 30, 26),\n",
       "  'I saw @solangeknowles perform at Chinati last weekend. It was the most beautiful thing I’ve ever seen. Can’t stop t… https://t.co/WY6SDnr2DU'),\n",
       " (datetime.datetime(2017, 10, 14, 19, 17, 33), 'RT @paraga: 1'),\n",
       " (datetime.datetime(2017, 10, 14, 17, 30, 1),\n",
       "  '@monteiro @JohnPaczkowski @cwarzel Never asked for credit Mike'),\n",
       " (datetime.datetime(2017, 10, 14, 17, 26),\n",
       "  '@cwarzel @JohnPaczkowski Will keep everyone updated on the original thread'),\n",
       " (datetime.datetime(2017, 10, 14, 17, 3, 38),\n",
       "  '@davewiner Listened to it all. Doesn’t mean we are going to implement everything! ;)'),\n",
       " (datetime.datetime(2017, 10, 14, 17, 0, 56),\n",
       "  '@davewiner @realDonaldTrump Also not true. It’s a moment in time'),\n",
       " (datetime.datetime(2017, 10, 14, 17, 0, 20),\n",
       "  '@davewiner Come on. This isn’t true. We care. We have to build a business to fund the service'),\n",
       " (datetime.datetime(2017, 10, 14, 16, 59, 21),\n",
       "  '@yaelwrites @JohnPaczkowski @cwarzel @jilliancyork Never said that. We are considering. Need to prioritize.')]"
      ]
     },
     "execution_count": 57,
     "metadata": {},
     "output_type": "execute_result"
    }
   ],
   "source": [
    "[(t.created_at_datetime, t.text) for t in tweets[0:10]]"
   ]
  }
 ],
 "metadata": {
  "kernelspec": {
   "display_name": "Python 3",
   "language": "python",
   "name": "python3"
  },
  "language_info": {
   "codemirror_mode": {
    "name": "ipython",
    "version": 3
   },
   "file_extension": ".py",
   "mimetype": "text/x-python",
   "name": "python",
   "nbconvert_exporter": "python",
   "pygments_lexer": "ipython3",
   "version": "3.6.1"
  }
 },
 "nbformat": 4,
 "nbformat_minor": 2
}
