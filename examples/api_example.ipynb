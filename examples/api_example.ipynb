{
 "cells": [
  {
   "cell_type": "markdown",
   "metadata": {},
   "source": [
    "# Using the Twitter Search API\n",
    "\n",
    "Working with the API within a Python program is straightforward both for Premium and Enterprise clients.\n",
    "\n",
    "Our group's python [tweet parser library](https://github.com/tw-ddis/tweet_parser) is a requirement.\n",
    "\n",
    "\n",
    "Prior to starting your program, an easy way to define your secrets will be setting an environment variable. If you are an enterprise client, your authentication will be a (username, password) pair. If you are a premium client, you'll need to get a bearer token that will be passed with each call for authentication.\n",
    "\n",
    "```\n",
    "export TWITTER_SEARCH_PW=<password>\n",
    "export TWITTER_SEARCH_ACCOUNT_NAME=<account_name>\n",
    "export TWITTER_SEARCH_BEARER_TOKEN=<token>\n",
    "```\n",
    "\n",
    "\n",
    "The other points that you will have to set in the program are your endpoint, the api you want to use. There are functions to generate correct API endpoints from this info as well as flags to use the `counts` endpoint instead of the regular endpoint.\n",
    "\n",
    "The following cell demonstrates the basic setup that will be referenced throughout your program's session. Note that any method of storing your credentials is valid here; I am using environment variables for ease of use."
   ]
  },
  {
   "cell_type": "code",
   "execution_count": 1,
   "metadata": {
    "collapsed": true
   },
   "outputs": [],
   "source": [
    "import os\n",
    "import json\n",
    "from twittersearch import ResultStream, gen_endpoint, gen_rule_payload"
   ]
  },
  {
   "cell_type": "markdown",
   "metadata": {},
   "source": [
    "## Enterprise setup\n",
    "\n",
    "If you are an enterprise customer, you'll need to authenticate with a basic username/password method. You can specify that here:"
   ]
  },
  {
   "cell_type": "code",
   "execution_count": 4,
   "metadata": {},
   "outputs": [
    {
     "name": "stdout",
     "output_type": "stream",
     "text": [
      "https://gnip-api.twitter.com/search/fullarchive/accounts/<account_name>/ogformat.json\n"
     ]
    }
   ],
   "source": [
    "# set your environment variables here for enterprise access if you need to\n",
    "# os.environ[\"TWITTER_SEARCH_ACCOUNT_NAME\"] = \"\"\n",
    "# os.environ[\"TWITTER_SEARCH_PW\"] = \"\"\n",
    "\n",
    "\n",
    "enterprise_search_endpoint = gen_endpoint(kind=\"enterprise\", \n",
    "                                          search_api=\"fullarchive\",\n",
    "                                          account_name=os.environ[\"TWITTER_SEARCH_ACCOUNT_NAME\"],\n",
    "                                          label=\"ogformat.json\",\n",
    "                                          count_endpoint=False)\n",
    "\n",
    "enterprise_search_args = {\"username\": \"agonzales@twitter.com\",\n",
    "                          \"password\": os.environ[\"TWITTER_SEARCH_PW\"],\n",
    "                          \"url\": enterprise_search_endpoint,\n",
    "                         }\n",
    "\n",
    "\n",
    "\n",
    "print(enterprise_search_endpoint.replace(os.environ[\"TWITTER_SEARCH_ACCOUNT_NAME\"], '<account_name>'))"
   ]
  },
  {
   "cell_type": "markdown",
   "metadata": {},
   "source": [
    "## Premium Setup\n",
    "\n",
    "Premium customers will use a bearer token for authentication. Use the following cell for setup:"
   ]
  },
  {
   "cell_type": "code",
   "execution_count": 20,
   "metadata": {},
   "outputs": [
    {
     "name": "stdout",
     "output_type": "stream",
     "text": [
      "https://api.twitter.com/1.1/tweets/search/30day/dev.json\n"
     ]
    }
   ],
   "source": [
    "# set your environment variables here for premium access if you need to\n",
    "# os.environ[\"TWITTER_SEARCH_BEARER_TOKEN\"] = \"\"\n",
    "\n",
    "\n",
    "premium_search_endpoint = gen_endpoint(kind=\"premium\",\n",
    "                                       search_api=\"30day\",\n",
    "                                       label=\"dev\",\n",
    "                                       count_endpoint=False)\n",
    "\n",
    "premium_search_args = {\"bearer_token\": os.environ[\"TWITTER_SEARCH_BEARER_TOKEN\"],\n",
    "                       \"url\": premium_search_endpoint,\n",
    "                      }\n",
    "\n",
    "print(premium_search_endpoint)"
   ]
  },
  {
   "cell_type": "markdown",
   "metadata": {},
   "source": [
    "There is a function that formats search API rules into valid json queries called `gen_rule_payload`. It has sensible defaults, such as pulling more tweets per call than the default 100 (but note that a sandbox environment can only have a max of 100 here, so if you get errors, please check this) not including dates, and defaulting to hourly counts when using the counts api. Discussing the finer points of generating search rules is out of scope for these examples; I encourage you to see the docs to learn the nuances within, but for now let's see what a rule looks like."
   ]
  },
  {
   "cell_type": "code",
   "execution_count": 8,
   "metadata": {},
   "outputs": [
    {
     "name": "stdout",
     "output_type": "stream",
     "text": [
      "{\"query\":\"@robotprincessfi\",\"maxResults\":100}\n"
     ]
    }
   ],
   "source": [
    "rule = gen_rule_payload(\"@robotprincessfi\", max_results=100) # testing with a sandbox account\n",
    "print(rule)"
   ]
  },
  {
   "cell_type": "markdown",
   "metadata": {},
   "source": [
    "This rule will match tweets that mention `@robotprincessfi`."
   ]
  },
  {
   "cell_type": "markdown",
   "metadata": {},
   "source": [
    "From this point, there are two ways to interact with the API. There is a quick method to collect smaller amounts of tweets to memory that requires less thought and knowledge, and interaction with the `ResultStream` object which will be introduced later.\n",
    "\n",
    "\n",
    "## Fast Way\n",
    "\n",
    "We'll use the `search_args` variable to power the configuration point for the API. The object also takes a valid PowerTrack rule and has options to cutoff search when hitting limits on both number of tweets and API calls.\n",
    "\n",
    "We'll be using the `collect_results` function, which has three parameters.\n",
    "\n",
    "- rule: a valid powertrack rule, referenced earlier\n",
    "- max_results: as the api handles pagination, it will stop collecting when we get to this number\n",
    "- result_stream_args: configuration args that we've already specified.\n",
    "\n",
    "\n",
    "For the remaining examples, please change the args to either premium or enterprise depending on your usage.\n",
    "\n",
    "Let's see how it goes:"
   ]
  },
  {
   "cell_type": "code",
   "execution_count": 22,
   "metadata": {
    "collapsed": true
   },
   "outputs": [],
   "source": [
    "from twittersearch import collect_results"
   ]
  },
  {
   "cell_type": "code",
   "execution_count": 23,
   "metadata": {},
   "outputs": [
    {
     "name": "stderr",
     "output_type": "stream",
     "text": [
      "using bearer token for authentication\n"
     ]
    }
   ],
   "source": [
    "tweets = collect_results(rule, max_results=500, result_stream_args=premium_search_args) # change this if you need to"
   ]
  },
  {
   "cell_type": "code",
   "execution_count": 24,
   "metadata": {},
   "outputs": [
    {
     "data": {
      "text/plain": [
       "[('920754829873606657', \"@ericmbudd I'm super cute.\", []),\n",
       " ('920754352716783616', \"@RobotPrincessFi that's super cute\", []),\n",
       " ('920543141614067712', '@RobotPrincessFi https://t.co/z6AioxZkwE', []),\n",
       " ('920383435209891841', '@robotprincessfi hi there Fiona', [])]"
      ]
     },
     "execution_count": 24,
     "metadata": {},
     "output_type": "execute_result"
    }
   ],
   "source": [
    "[(tweet.id, tweet.all_text, tweet.hashtags) for tweet in tweets[0:10]]"
   ]
  },
  {
   "cell_type": "markdown",
   "metadata": {},
   "source": [
    "Voila, we have some tweets. For interactive environments and other cases where you don't care about collecting your data in a single load or don't need to operate on the stream of tweets or counts directly, I recommend using this convenience function.\n",
    "\n",
    "\n",
    "## Working with the ResultStream\n",
    "\n",
    "The ResultStream object will be powered by the `search_args`, and takes the rules and other configuration parameters, including a hard stop on number of pages to limit your API call usage."
   ]
  },
  {
   "cell_type": "code",
   "execution_count": 27,
   "metadata": {},
   "outputs": [],
   "source": [
    "rs = ResultStream(**premium_search_args, rule_payload=rule, max_results=500, max_pages=1, )"
   ]
  },
  {
   "cell_type": "code",
   "execution_count": 28,
   "metadata": {},
   "outputs": [
    {
     "name": "stdout",
     "output_type": "stream",
     "text": [
      "ResultStream: \n",
      "\t{\n",
      "    \"username\":null,\n",
      "    \"url\":\"https:\\/\\/api.twitter.com\\/1.1\\/tweets\\/search\\/30day\\/dev.json\",\n",
      "    \"rule_payload\":{\n",
      "        \"query\":\"@robotprincessfi\",\n",
      "        \"maxResults\":100\n",
      "    },\n",
      "    \"tweetify\":true,\n",
      "    \"max_results\":500\n",
      "}\n"
     ]
    }
   ],
   "source": [
    "print(str(rs).replace(os.environ[\"TWITTER_SEARCH_ACCOUNT_NAME\"], '<account_name>'))"
   ]
  },
  {
   "cell_type": "markdown",
   "metadata": {},
   "source": [
    "There is a function, `.stream`, that seamlessly handles requests and pagination for a given query. It returns a generator, and to grab our 500 tweets that mention `@robotprincessfi` we can do this:"
   ]
  },
  {
   "cell_type": "code",
   "execution_count": 29,
   "metadata": {},
   "outputs": [
    {
     "name": "stderr",
     "output_type": "stream",
     "text": [
      "using bearer token for authentication\n"
     ]
    }
   ],
   "source": [
    "tweets = list(rs.stream())"
   ]
  },
  {
   "cell_type": "markdown",
   "metadata": {},
   "source": [
    "Tweets are lazily parsed using our Tweet Parser, so tweet data is very easily extractable."
   ]
  },
  {
   "cell_type": "code",
   "execution_count": 30,
   "metadata": {},
   "outputs": [
    {
     "data": {
      "text/plain": [
       "[('920754829873606657', \"@ericmbudd I'm super cute.\", []),\n",
       " ('920754352716783616', \"@RobotPrincessFi that's super cute\", []),\n",
       " ('920543141614067712', '@RobotPrincessFi https://t.co/z6AioxZkwE', []),\n",
       " ('920383435209891841', '@robotprincessfi hi there Fiona', [])]"
      ]
     },
     "execution_count": 30,
     "metadata": {},
     "output_type": "execute_result"
    }
   ],
   "source": [
    "[(tweet.id, tweet.all_text, tweet.hashtags) for tweet in tweets[0:10]]"
   ]
  },
  {
   "cell_type": "markdown",
   "metadata": {},
   "source": [
    "Let's make a new rule and pass it dates this time. `gen_rule_payload` takes dates of the forms `YYYY-mm-DD` and `YYYYmmDD`. Note that this will only work with the full archive search option, which is available to my account only via the enterprise options."
   ]
  },
  {
   "cell_type": "code",
   "execution_count": 31,
   "metadata": {},
   "outputs": [
    {
     "name": "stdout",
     "output_type": "stream",
     "text": [
      "{\"query\":\"from:jack\",\"maxResults\":100,\"toDate\":\"201710150000\",\"fromDate\":\"201709010000\"}\n"
     ]
    }
   ],
   "source": [
    "rule = gen_rule_payload(\"from:jack\", from_date=\"2017-09-01\", to_date=\"2017-10-15\", max_results=100)\n",
    "print(rule)"
   ]
  },
  {
   "cell_type": "code",
   "execution_count": 32,
   "metadata": {},
   "outputs": [
    {
     "name": "stderr",
     "output_type": "stream",
     "text": [
      "using username and password for authentication\n"
     ]
    }
   ],
   "source": [
    "tweets = collect_results(rule, max_results=500, result_stream_args=enterprise_search_args)"
   ]
  },
  {
   "cell_type": "code",
   "execution_count": 33,
   "metadata": {},
   "outputs": [
    {
     "data": {
      "text/plain": [
       "[('2017-10-14 22:57:23',\n",
       "  'I love to see Palestinians dancing and having fun. Good &amp;positive stories deserve to go viral as well. Watch this: https://t.co/42vOrC40Fu',\n",
       "  []),\n",
       " ('2017-10-14 22:55:25',\n",
       "  \"But don't argue with people on twitter about whether policies and laws are racist. Argue with your City Council and your state reps and senators and Mayor and alderman. And if you don't like how that argument went\\nfire em.\",\n",
       "  []),\n",
       " ('2017-10-14 21:30:26',\n",
       "  'I saw @solangeknowles perform at Chinati last weekend. It was the most beautiful thing I’ve ever seen. Can’t stop thinking about it. https://t.co/1wNLiNCaxb',\n",
       "  []),\n",
       " ('2017-10-14 19:17:33', '1', []),\n",
       " ('2017-10-14 17:30:01',\n",
       "  '@monteiro @JohnPaczkowski @cwarzel Never asked for credit Mike',\n",
       "  []),\n",
       " ('2017-10-14 17:26:00',\n",
       "  '@cwarzel @JohnPaczkowski Will keep everyone updated on the original thread',\n",
       "  []),\n",
       " ('2017-10-14 17:03:38',\n",
       "  '@davewiner Listened to it all. Doesn’t mean we are going to implement everything! ;)',\n",
       "  []),\n",
       " ('2017-10-14 17:00:56',\n",
       "  '@davewiner @realDonaldTrump Also not true. It’s a moment in time',\n",
       "  []),\n",
       " ('2017-10-14 17:00:20',\n",
       "  '@davewiner Come on. This isn’t true. We care. We have to build a business to fund the service',\n",
       "  []),\n",
       " ('2017-10-14 16:59:21',\n",
       "  '@yaelwrites @JohnPaczkowski @cwarzel @jilliancyork Never said that. We are considering. Need to prioritize.',\n",
       "  [])]"
      ]
     },
     "execution_count": 33,
     "metadata": {},
     "output_type": "execute_result"
    }
   ],
   "source": [
    "[(str(tweet.created_at_datetime), tweet.all_text, tweet.hashtags) for tweet in tweets[0:10]]\n",
    "  "
   ]
  }
 ],
 "metadata": {
  "kernelspec": {
   "display_name": "Python 3",
   "language": "python",
   "name": "python3"
  },
  "language_info": {
   "codemirror_mode": {
    "name": "ipython",
    "version": 3
   },
   "file_extension": ".py",
   "mimetype": "text/x-python",
   "name": "python",
   "nbconvert_exporter": "python",
   "pygments_lexer": "ipython3",
   "version": "3.6.1"
  }
 },
 "nbformat": 4,
 "nbformat_minor": 2
}
