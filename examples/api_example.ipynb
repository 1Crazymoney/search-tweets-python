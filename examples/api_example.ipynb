{
 "cells": [
  {
   "cell_type": "markdown",
   "metadata": {},
   "source": [
    "# Using the Twitter Search API\n",
    "\n",
    "Working with the API within a Python program is straightforward both for Premium and Enterprise clients.\n",
    "\n",
    "Our group's python [tweet parser library](https://github.com/twitterdev/tweet_parser) is a requirement.\n",
    "\n",
    "\n",
    "Prior to starting your program, an easy way to define your secrets will be setting an environment variable. If you are an enterprise client, your authentication will be a (username, password) pair. If you are a premium client, you'll need to get a bearer token that will be passed with each call for authentication.\n",
    "\n",
    "Your credentials should be put into a YAML file that looks like this:\n",
    "\n",
    "\n",
    "```.yaml\n",
    "\n",
    "twitter_search_api:\n",
    "  endpoint: <FULL_URL_OF_ENDPOINT>\n",
    "  account: <ACCOUNT_NAME>\n",
    "  username: <USERNAME>\n",
    "  password: <PW>\n",
    "  bearer_token: <TOKEN>\n",
    "```\n",
    "And filling in the keys that are appropriate for your account type. Premium users should only have the `endpoint` and `bearer_token`; Enterprise customers should have `account`, `username`, `endpoint`, and `password`.\n",
    "\n",
    "\n",
    "Our credential reader will default to expecing this file in `\"~/.twitter_search.yaml\"`, but you can pass the relevant location as needed.\n",
    "\n",
    "The following cell demonstrates the basic setup that will be referenced throughout your program's session."
   ]
  },
  {
   "cell_type": "code",
   "execution_count": 1,
   "metadata": {
    "collapsed": true
   },
   "outputs": [],
   "source": [
    "from twittersearch import ResultStream, gen_rule_payload, load_credentials"
   ]
  },
  {
   "cell_type": "markdown",
   "metadata": {},
   "source": [
    "## Enterprise setup\n",
    "\n",
    "If you are an enterprise customer, you'll need to authenticate with a basic username/password method. You can specify that here:"
   ]
  },
  {
   "cell_type": "code",
   "execution_count": 42,
   "metadata": {
    "collapsed": true
   },
   "outputs": [],
   "source": [
    "enterprise_search_args = load_credentials(\"~/.twitter_keys.yaml\",\n",
    "                                          account_type=\"enterprise\")"
   ]
  },
  {
   "cell_type": "markdown",
   "metadata": {},
   "source": [
    "## Premium Setup\n",
    "\n",
    "Premium customers will use a bearer token for authentication. Use the following cell for setup:"
   ]
  },
  {
   "cell_type": "code",
   "execution_count": 54,
   "metadata": {
    "collapsed": true
   },
   "outputs": [],
   "source": [
    "premium_search_args = load_credentials(\"~/.twitter_keys.yaml\",\n",
    "                                       account_type=\"premium\")"
   ]
  },
  {
   "cell_type": "markdown",
   "metadata": {},
   "source": [
    "There is a function that formats search API rules into valid json queries called `gen_rule_payload`. It has sensible defaults, such as pulling more tweets per call than the default 100 (but note that a sandbox environment can only have a max of 100 here, so if you get errors, please check this) not including dates, and defaulting to hourly counts when using the counts api. Discussing the finer points of generating search rules is out of scope for these examples; I encourage you to see the docs to learn the nuances within, but for now let's see what a rule looks like."
   ]
  },
  {
   "cell_type": "code",
   "execution_count": 45,
   "metadata": {},
   "outputs": [
    {
     "name": "stdout",
     "output_type": "stream",
     "text": [
      "{\"query\":\"beyonce\",\"maxResults\":100}\n"
     ]
    }
   ],
   "source": [
    "rule = gen_rule_payload(\"beyonce\", results_per_call=100) # testing with a sandbox account\n",
    "print(rule)"
   ]
  },
  {
   "cell_type": "markdown",
   "metadata": {},
   "source": [
    "This rule will match tweets that have the text `beyonce` in them."
   ]
  },
  {
   "cell_type": "markdown",
   "metadata": {},
   "source": [
    "From this point, there are two ways to interact with the API. There is a quick method to collect smaller amounts of tweets to memory that requires less thought and knowledge, and interaction with the `ResultStream` object which will be introduced later.\n",
    "\n",
    "\n",
    "## Fast Way\n",
    "\n",
    "We'll use the `search_args` variable to power the configuration point for the API. The object also takes a valid PowerTrack rule and has options to cutoff search when hitting limits on both number of tweets and API calls.\n",
    "\n",
    "We'll be using the `collect_results` function, which has three parameters.\n",
    "\n",
    "- rule: a valid powertrack rule, referenced earlier\n",
    "- max_results: as the api handles pagination, it will stop collecting when we get to this number\n",
    "- result_stream_args: configuration args that we've already specified.\n",
    "\n",
    "\n",
    "For the remaining examples, please change the args to either premium or enterprise depending on your usage.\n",
    "\n",
    "Let's see how it goes:"
   ]
  },
  {
   "cell_type": "code",
   "execution_count": 8,
   "metadata": {
    "collapsed": true
   },
   "outputs": [],
   "source": [
    "from twittersearch import collect_results"
   ]
  },
  {
   "cell_type": "code",
   "execution_count": 46,
   "metadata": {
    "collapsed": true,
    "scrolled": true
   },
   "outputs": [],
   "source": [
    "tweets = collect_results(rule,\n",
    "                         max_results=100,\n",
    "                         result_stream_args=enterprise_search_args) # change this if you need to"
   ]
  },
  {
   "cell_type": "markdown",
   "metadata": {},
   "source": [
    "By default, tweet payloads are lazily parsed into a `Tweet` object. An overwhelming number of tweet attributes are made available directly, as such:"
   ]
  },
  {
   "cell_type": "code",
   "execution_count": 47,
   "metadata": {},
   "outputs": [
    {
     "name": "stdout",
     "output_type": "stream",
     "text": [
      "That deep sigh Beyoncé took once she realized she wouldn’t be able to get the earpiece out of her hair before the dance break 😂.  https://t.co/dU1K2KMT7i\n",
      "4 Years ago today, \"BEYONCÉ\" by Beyoncé was surprise released. It received acclaim from critics,  debuted at #1 and certified 2x Platinum in the US. https://t.co/wB3C7DuX9o\n",
      "me mata la gente que se cree superior por sus gustos de música escuches queen beyonce o el polaco no sos mas ni menos que nadie\n",
      "I’m literally not Beyoncé https://t.co/LwIkllCx6P\n",
      "#BEYONCÉ ‣ 𝐌𝐄𝐀𝐃𝐃𝐅𝐀𝐍 𝐎𝐅𝐈𝐂𝐈𝐀𝐋 - I Am... 𝐖𝐎𝐑𝐋𝐃 𝐓𝐎𝐔𝐑! https://t.co/TyyeDdXKiM\n",
      "Beyoncé on how nervous she was to release her self-titled... https://t.co/fru23c6DYC\n",
      "AAAA ansiosa por esse feat da Beyoncé com Jorge Ben Jor &lt;3 https://t.co/NkKJhC9JUd\n",
      "I am world tour, the Beyonce experience, revamped hmt. https://t.co/pb07eMyNka\n",
      "Tell me what studio versions of any artists would u like me to do? https://t.co/Z6YWsAJuhU\n",
      "Billboard's best female artists over the last decade:\n",
      "\n",
      "2017: Ariana Grande\n",
      "2016: Adele\n",
      "2015: Taylor Swift\n",
      "2014: Katy Perry\n",
      "2013: Taylor Swift\n",
      "2012: Adele\n",
      "2011: Adele\n",
      "2010: Lady Gaga\n",
      "2009: Taylor Swift\n",
      "2008: Rihanna\n",
      "\n",
      "Beyonce = 0\n",
      "\n",
      "Taylor Swift = 3 👑\n",
      "Beyoncé explaining her intent behind the BEYONCÉ visual album &amp; how she wanted to reinstate the idea of an album release as a significant, exciting event which had lost meaning in the face of hype created around singles. 👑 https://t.co/pK2MB35vYl\n"
     ]
    }
   ],
   "source": [
    "[print(tweet.all_text) for tweet in tweets[0:10]];"
   ]
  },
  {
   "cell_type": "code",
   "execution_count": 48,
   "metadata": {},
   "outputs": [
    {
     "name": "stdout",
     "output_type": "stream",
     "text": [
      "2017-12-13 21:18:17\n",
      "2017-12-13 21:18:16\n",
      "2017-12-13 21:18:16\n",
      "2017-12-13 21:18:15\n",
      "2017-12-13 21:18:15\n",
      "2017-12-13 21:18:13\n",
      "2017-12-13 21:18:12\n",
      "2017-12-13 21:18:12\n",
      "2017-12-13 21:18:11\n",
      "2017-12-13 21:18:10\n"
     ]
    }
   ],
   "source": [
    "[print(tweet.created_at_datetime) for tweet in tweets[0:10]];"
   ]
  },
  {
   "cell_type": "code",
   "execution_count": 49,
   "metadata": {},
   "outputs": [
    {
     "name": "stdout",
     "output_type": "stream",
     "text": [
      "Twitter for Android\n",
      "Twitter for Android\n",
      "Twitter for Android\n",
      "Twitter for iPhone\n",
      "Meadd\n",
      "Twitter for iPhone\n",
      "Twitter for Android\n",
      "Twitter for iPhone\n",
      "Twitter for iPhone\n",
      "Twitter for Android\n"
     ]
    }
   ],
   "source": [
    "[print(tweet.generator.get(\"name\")) for tweet in tweets[0:10]];"
   ]
  },
  {
   "cell_type": "markdown",
   "metadata": {},
   "source": [
    "Voila, we have some tweets. For interactive environments and other cases where you don't care about collecting your data in a single load or don't need to operate on the stream of tweets or counts directly, I recommend using this convenience function.\n",
    "\n",
    "\n",
    "## Working with the ResultStream\n",
    "\n",
    "The ResultStream object will be powered by the `search_args`, and takes the rules and other configuration parameters, including a hard stop on number of pages to limit your API call usage."
   ]
  },
  {
   "cell_type": "code",
   "execution_count": 55,
   "metadata": {},
   "outputs": [
    {
     "name": "stdout",
     "output_type": "stream",
     "text": [
      "ResultStream: \n",
      "\t{\n",
      "    \"username\":null,\n",
      "    \"endpoint\":\"https:\\/\\/api.twitter.com\\/1.1\\/tweets\\/search\\/30day\\/dev.json\",\n",
      "    \"rule_payload\":{\n",
      "        \"query\":\"beyonce\",\n",
      "        \"maxResults\":100\n",
      "    },\n",
      "    \"tweetify\":true,\n",
      "    \"max_results\":500\n",
      "}\n"
     ]
    }
   ],
   "source": [
    "rs = ResultStream(rule_payload=rule,\n",
    "                  max_results=500,\n",
    "                  max_pages=1,\n",
    "                  **premium_search_args)\n",
    "\n",
    "print(rs)"
   ]
  },
  {
   "cell_type": "markdown",
   "metadata": {},
   "source": [
    "There is a function, `.stream`, that seamlessly handles requests and pagination for a given query. It returns a generator, and to grab our 500 tweets that mention `beyonce` we can do this:"
   ]
  },
  {
   "cell_type": "code",
   "execution_count": 56,
   "metadata": {
    "collapsed": true
   },
   "outputs": [],
   "source": [
    "tweets = list(rs.stream())"
   ]
  },
  {
   "cell_type": "markdown",
   "metadata": {},
   "source": [
    "Tweets are lazily parsed using our Tweet Parser, so tweet data is very easily extractable."
   ]
  },
  {
   "cell_type": "code",
   "execution_count": 57,
   "metadata": {},
   "outputs": [
    {
     "name": "stdout",
     "output_type": "stream",
     "text": [
      "Everyone: *still dragging Jay for cheating*\n",
      "\n",
      "Beyoncé: https://t.co/2z1ltlMQiJ\n",
      "Beyoncé changed the game w/ that digital drop 4 years ago today! 🎉\n",
      "\n",
      "• #1 debut on Billboard\n",
      "• Sold 617K in the US / over 828K WW in only 3 days\n",
      "• Fastest-selling album on iTunes of all time\n",
      "• Reached #1 in 118 countries\n",
      "• Widespread acclaim; hailed as her magnum opus https://t.co/lDCdVs6em3\n",
      "Beyoncé 🔥 #444Tour https://t.co/sCvZzjLwqx\n",
      "Se presentan casos de feminismo pop basado en sugerencias de artistas famosos en turno, Emma Watson, Beyoncé.\n",
      "Beyonce. Are you kidding me with this?! #Supreme #love #everything\n",
      "Dear Beyoncé, https://t.co/5visfVK2LR\n",
      "At this time 4 years ago today, Beyoncé released her self-titled album BEYONCÉ exclusively on the iTunes Store without any prior announcement. The album remains the ONLY album in history to reach #1 in 118 countries &amp; the fastest-selling album in the history of the iTunes Store. https://t.co/ZZb4QyQYf0\n",
      "4 years ago today, Beyoncé released her self-titled visual album \"BEYONCÉ\" and shook up the music world forever. 🙌🏿 https://t.co/aGtUSq9R3u\n",
      "Everyone: *still dragging Jay for cheating*\n",
      "\n",
      "Beyoncé: https://t.co/2z1ltlMQiJ\n",
      "And Beyonce hasn't had a solo #1 hit since the Bush administration soooo... https://t.co/WCd7ni8DwN\n"
     ]
    }
   ],
   "source": [
    "# using unidecode to prevent emoji/accents printing \n",
    "[print(tweet.all_text) for tweet in tweets[0:10]];"
   ]
  },
  {
   "cell_type": "markdown",
   "metadata": {},
   "source": [
    "## Counts API\n",
    "\n",
    "We can also use the counts api to get counts of tweets that match our rule. Each request will return up to *30* results, and each count request can be done on a minutely, hourly, or daily basis. The underlying `ResultStream` object will handle converting your endpoint to the count endpoint, and you have to specify the `count_bucket` argument when making a rule to use it.\n",
    "\n",
    "The process is very similar to grabbing tweets, but has some minor differneces.\n",
    "\n",
    "\n",
    "**Caveat - premium sandbox environments do NOT have access to the counts API.**\n",
    "\n"
   ]
  },
  {
   "cell_type": "code",
   "execution_count": 24,
   "metadata": {
    "collapsed": true
   },
   "outputs": [],
   "source": [
    "count_rule = gen_rule_payload(\"beyonce\", count_bucket=\"day\")\n",
    "\n",
    "counts = collect_results(count_rule, result_stream_args=enterprise_search_args)"
   ]
  },
  {
   "cell_type": "markdown",
   "metadata": {},
   "source": [
    "Our results are pretty straightforward and can be rapidly used."
   ]
  },
  {
   "cell_type": "code",
   "execution_count": 25,
   "metadata": {},
   "outputs": [
    {
     "data": {
      "text/plain": [
       "[{'count': 85660, 'timePeriod': '201712130000'},\n",
       " {'count': 95231, 'timePeriod': '201712120000'},\n",
       " {'count': 114540, 'timePeriod': '201712110000'},\n",
       " {'count': 165964, 'timePeriod': '201712100000'},\n",
       " {'count': 102022, 'timePeriod': '201712090000'},\n",
       " {'count': 87630, 'timePeriod': '201712080000'},\n",
       " {'count': 195794, 'timePeriod': '201712070000'},\n",
       " {'count': 209629, 'timePeriod': '201712060000'},\n",
       " {'count': 88742, 'timePeriod': '201712050000'},\n",
       " {'count': 96795, 'timePeriod': '201712040000'},\n",
       " {'count': 177595, 'timePeriod': '201712030000'},\n",
       " {'count': 120102, 'timePeriod': '201712020000'},\n",
       " {'count': 186759, 'timePeriod': '201712010000'},\n",
       " {'count': 151212, 'timePeriod': '201711300000'},\n",
       " {'count': 79311, 'timePeriod': '201711290000'},\n",
       " {'count': 107175, 'timePeriod': '201711280000'},\n",
       " {'count': 58192, 'timePeriod': '201711270000'},\n",
       " {'count': 48327, 'timePeriod': '201711260000'},\n",
       " {'count': 59639, 'timePeriod': '201711250000'},\n",
       " {'count': 85201, 'timePeriod': '201711240000'},\n",
       " {'count': 91544, 'timePeriod': '201711230000'},\n",
       " {'count': 64129, 'timePeriod': '201711220000'},\n",
       " {'count': 92065, 'timePeriod': '201711210000'},\n",
       " {'count': 101617, 'timePeriod': '201711200000'},\n",
       " {'count': 84733, 'timePeriod': '201711190000'},\n",
       " {'count': 74887, 'timePeriod': '201711180000'},\n",
       " {'count': 76091, 'timePeriod': '201711170000'},\n",
       " {'count': 81849, 'timePeriod': '201711160000'},\n",
       " {'count': 58423, 'timePeriod': '201711150000'},\n",
       " {'count': 78004, 'timePeriod': '201711140000'},\n",
       " {'count': 118077, 'timePeriod': '201711130000'}]"
      ]
     },
     "execution_count": 25,
     "metadata": {},
     "output_type": "execute_result"
    }
   ],
   "source": [
    "counts"
   ]
  },
  {
   "cell_type": "markdown",
   "metadata": {},
   "source": [
    "## Dated searches / Full Archive Search\n",
    "\n",
    "\n",
    "Let's make a new rule and pass it dates this time.\n",
    "\n",
    "`gen_rule_payload` takes dates of the forms `YYYY-mm-DD` and `YYYYmmDD`.\n",
    "\n",
    "\n",
    "**Note that this will only work with the full archive search option**, which is available to my account only via the enterprise options. Full archive search will likely require a different endpoint or access method; please see your developer console for details."
   ]
  },
  {
   "cell_type": "code",
   "execution_count": 26,
   "metadata": {},
   "outputs": [
    {
     "name": "stdout",
     "output_type": "stream",
     "text": [
      "{\"query\":\"from:jack\",\"maxResults\":500,\"toDate\":\"201710300000\",\"fromDate\":\"201709010000\"}\n"
     ]
    }
   ],
   "source": [
    "rule = gen_rule_payload(\"from:jack\", from_date=\"2017-09-01\", to_date=\"2017-10-30\", results_per_call=500)\n",
    "print(rule)"
   ]
  },
  {
   "cell_type": "code",
   "execution_count": 27,
   "metadata": {
    "collapsed": true
   },
   "outputs": [],
   "source": [
    "tweets = collect_results(rule, max_results=500, result_stream_args=enterprise_search_args)"
   ]
  },
  {
   "cell_type": "code",
   "execution_count": 40,
   "metadata": {},
   "outputs": [
    {
     "name": "stdout",
     "output_type": "stream",
     "text": [
      "More clarity on our private information policy and enforcement. Working to build as much direct context into the product too https://t.co/IrwBexPrBA\n",
      "To provide more clarity on our private information policy, we’ve added specific examples of what is/is not a violation and insight into what we need to remove this type of content from the service. https://t.co/NGx5hh2tTQ\n",
      "Launching violent groups and hateful images/symbols policy on November 22nd https://t.co/NaWuBPxyO5\n",
      "We will now launch our policies on violent groups and hateful imagery and hate symbols on Nov 22. During the development process, we received valuable feedback that we’re implementing before these are published and enforced. See more on our policy development process here 👇 https://t.co/wx3EeH39BI\n",
      "@WillStick @lizkelley Happy birthday Liz!\n",
      "Off-boarding advertising from all accounts owned by Russia Today (RT) and Sputnik.\n",
      "\n",
      "We’re donating all projected earnings ($1.9mm) to support external research into the use of Twitter in elections, including use of malicious automation and misinformation. https://t.co/zIxfqqXCZr\n",
      "@TMFJMo @anthonynoto Thank you\n",
      "@gasca @stratechery @Lefsetz letter\n",
      "@gasca @stratechery Bridgewater’s Daily Observations\n",
      "Yup!!!! ❤️❤️❤️❤️ #davechappelle https://t.co/ybSGNrQpYF\n",
      "@ndimichino Sometimes\n",
      "Setting up at @CampFlogGnaw https://t.co/nVq8QjkKsf\n"
     ]
    }
   ],
   "source": [
    "# usiing unidecode only to \n",
    "[print(tweet.all_text) for tweet in tweets[0:10]];"
   ]
  },
  {
   "cell_type": "code",
   "execution_count": 37,
   "metadata": {},
   "outputs": [
    {
     "name": "stdout",
     "output_type": "stream",
     "text": [
      "{\"query\":\"from:jack\",\"toDate\":\"201710300000\",\"fromDate\":\"201709200000\",\"bucket\":\"day\"}\n"
     ]
    }
   ],
   "source": [
    "rule = gen_rule_payload(\"from:jack\",\n",
    "                        from_date=\"2017-09-20\",\n",
    "                        to_date=\"2017-10-30\",\n",
    "                        count_bucket=\"day\",\n",
    "                        results_per_call=500)\n",
    "print(rule)"
   ]
  },
  {
   "cell_type": "code",
   "execution_count": 38,
   "metadata": {
    "collapsed": true
   },
   "outputs": [],
   "source": [
    "counts = collect_results(rule, max_results=500, result_stream_args=enterprise_search_args)"
   ]
  },
  {
   "cell_type": "code",
   "execution_count": 39,
   "metadata": {
    "scrolled": false
   },
   "outputs": [
    {
     "name": "stdout",
     "output_type": "stream",
     "text": [
      "{'timePeriod': '201710290000', 'count': 0}\n",
      "{'timePeriod': '201710280000', 'count': 0}\n",
      "{'timePeriod': '201710270000', 'count': 3}\n",
      "{'timePeriod': '201710260000', 'count': 6}\n",
      "{'timePeriod': '201710250000', 'count': 4}\n",
      "{'timePeriod': '201710240000', 'count': 4}\n",
      "{'timePeriod': '201710230000', 'count': 0}\n",
      "{'timePeriod': '201710220000', 'count': 0}\n",
      "{'timePeriod': '201710210000', 'count': 3}\n",
      "{'timePeriod': '201710200000', 'count': 2}\n",
      "{'timePeriod': '201710190000', 'count': 1}\n",
      "{'timePeriod': '201710180000', 'count': 6}\n",
      "{'timePeriod': '201710170000', 'count': 2}\n",
      "{'timePeriod': '201710160000', 'count': 2}\n",
      "{'timePeriod': '201710150000', 'count': 1}\n",
      "{'timePeriod': '201710140000', 'count': 64}\n",
      "{'timePeriod': '201710130000', 'count': 3}\n",
      "{'timePeriod': '201710120000', 'count': 4}\n",
      "{'timePeriod': '201710110000', 'count': 8}\n",
      "{'timePeriod': '201710100000', 'count': 4}\n",
      "{'timePeriod': '201710090000', 'count': 1}\n",
      "{'timePeriod': '201710080000', 'count': 0}\n",
      "{'timePeriod': '201710070000', 'count': 0}\n",
      "{'timePeriod': '201710060000', 'count': 1}\n",
      "{'timePeriod': '201710050000', 'count': 3}\n",
      "{'timePeriod': '201710040000', 'count': 5}\n",
      "{'timePeriod': '201710030000', 'count': 8}\n",
      "{'timePeriod': '201710020000', 'count': 5}\n",
      "{'timePeriod': '201710010000', 'count': 0}\n",
      "{'timePeriod': '201709300000', 'count': 0}\n",
      "{'timePeriod': '201709290000', 'count': 0}\n",
      "{'timePeriod': '201709280000', 'count': 9}\n",
      "{'timePeriod': '201709270000', 'count': 41}\n",
      "{'timePeriod': '201709260000', 'count': 13}\n",
      "{'timePeriod': '201709250000', 'count': 6}\n",
      "{'timePeriod': '201709240000', 'count': 7}\n",
      "{'timePeriod': '201709230000', 'count': 3}\n",
      "{'timePeriod': '201709220000', 'count': 0}\n",
      "{'timePeriod': '201709210000', 'count': 1}\n",
      "{'timePeriod': '201709200000', 'count': 7}\n"
     ]
    }
   ],
   "source": [
    "[print(c) for c in counts];"
   ]
  }
 ],
 "metadata": {
  "kernelspec": {
   "display_name": "Python 3",
   "language": "python",
   "name": "python3"
  },
  "language_info": {
   "codemirror_mode": {
    "name": "ipython",
    "version": 3
   },
   "file_extension": ".py",
   "mimetype": "text/x-python",
   "name": "python",
   "nbconvert_exporter": "python",
   "pygments_lexer": "ipython3",
   "version": "3.6.1"
  }
 },
 "nbformat": 4,
 "nbformat_minor": 2
}
