{
 "cells": [
  {
   "cell_type": "markdown",
   "metadata": {},
   "source": [
    "# Using the Twitter Search API\n",
    "\n",
    "Working with the API within a Python program is straightforward both for Premium and Enterprise clients.\n",
    "\n",
    "Our group's python [tweet parser library](https://github.com/twitterdev/tweet_parser) is a requirement.\n",
    "\n",
    "\n",
    "Prior to starting your program, an easy way to define your secrets will be setting an environment variable. If you are an enterprise client, your authentication will be a (username, password) pair. If you are a premium client, you'll need to get a bearer token that will be passed with each call for authentication.\n",
    "\n",
    "We advocate putting your API info in a yaml file such as this:\n",
    "\n",
    "\n",
    "```.yaml\n",
    "\n",
    "twitter_search_api:\n",
    "  endpoint: <FULL_URL_OF_ENDPOINT>\n",
    "  account: <ACCOUNT_NAME>\n",
    "  username: <USERNAME>\n",
    "  password: <PW>\n",
    "  bearer_token: <TOKEN>\n",
    "```\n",
    "And filling in the keys that are appropriate for your account type. Premium users should only have the `endpoint` and `bearer_token`; Enterprise customers should have `account`, `username`, `endpoint`, and `password`.\n",
    "\n",
    "\n",
    "Our credential reader will default to expecing this file in `\"~/.twitter_search.yaml\"`, but you can pass the relevant location as needed.\n",
    "\n",
    "The following cell demonstrates the basic setup that will be referenced throughout your program's session."
   ]
  },
  {
   "cell_type": "code",
   "execution_count": 1,
   "metadata": {
    "collapsed": true
   },
   "outputs": [],
   "source": [
    "import os\n",
    "import json\n",
    "from unidecode import unidecode\n",
    "\n",
    "from twittersearch import ResultStream, gen_rule_payload, load_credentials"
   ]
  },
  {
   "cell_type": "markdown",
   "metadata": {},
   "source": [
    "## Enterprise setup\n",
    "\n",
    "If you are an enterprise customer, you'll need to authenticate with a basic username/password method. You can specify that here:"
   ]
  },
  {
   "cell_type": "code",
   "execution_count": 43,
   "metadata": {
    "collapsed": true
   },
   "outputs": [],
   "source": [
    "enterprise_search_args, enterprise_count_args = load_credentials(\"~/.twitter_keys.yaml\",\n",
    "                                                                 account_type=\"enterprise\")"
   ]
  },
  {
   "cell_type": "markdown",
   "metadata": {},
   "source": [
    "## Premium Setup\n",
    "\n",
    "Premium customers will use a bearer token for authentication. Use the following cell for setup:"
   ]
  },
  {
   "cell_type": "code",
   "execution_count": 44,
   "metadata": {},
   "outputs": [],
   "source": [
    "premium_search_args, premium_count_args = load_credentials(\"~/.twitter_keys.yaml\",\n",
    "                                                           account_type=\"premium\")"
   ]
  },
  {
   "cell_type": "markdown",
   "metadata": {},
   "source": [
    "There is a function that formats search API rules into valid json queries called `gen_rule_payload`. It has sensible defaults, such as pulling more tweets per call than the default 100 (but note that a sandbox environment can only have a max of 100 here, so if you get errors, please check this) not including dates, and defaulting to hourly counts when using the counts api. Discussing the finer points of generating search rules is out of scope for these examples; I encourage you to see the docs to learn the nuances within, but for now let's see what a rule looks like."
   ]
  },
  {
   "cell_type": "code",
   "execution_count": 24,
   "metadata": {},
   "outputs": [
    {
     "name": "stdout",
     "output_type": "stream",
     "text": [
      "{\"query\":\"beyonce\",\"maxResults\":100}\n"
     ]
    }
   ],
   "source": [
    "rule = gen_rule_payload(\"beyonce\", results_per_call=100) # testing with a sandbox account\n",
    "print(rule)"
   ]
  },
  {
   "cell_type": "markdown",
   "metadata": {},
   "source": [
    "This rule will match tweets that have the text `beyonce` in them."
   ]
  },
  {
   "cell_type": "markdown",
   "metadata": {},
   "source": [
    "From this point, there are two ways to interact with the API. There is a quick method to collect smaller amounts of tweets to memory that requires less thought and knowledge, and interaction with the `ResultStream` object which will be introduced later.\n",
    "\n",
    "\n",
    "## Fast Way\n",
    "\n",
    "We'll use the `search_args` variable to power the configuration point for the API. The object also takes a valid PowerTrack rule and has options to cutoff search when hitting limits on both number of tweets and API calls.\n",
    "\n",
    "We'll be using the `collect_results` function, which has three parameters.\n",
    "\n",
    "- rule: a valid powertrack rule, referenced earlier\n",
    "- max_results: as the api handles pagination, it will stop collecting when we get to this number\n",
    "- result_stream_args: configuration args that we've already specified.\n",
    "\n",
    "\n",
    "For the remaining examples, please change the args to either premium or enterprise depending on your usage.\n",
    "\n",
    "Let's see how it goes:"
   ]
  },
  {
   "cell_type": "code",
   "execution_count": 8,
   "metadata": {
    "collapsed": true
   },
   "outputs": [],
   "source": [
    "from twittersearch import collect_results"
   ]
  },
  {
   "cell_type": "code",
   "execution_count": 25,
   "metadata": {
    "scrolled": true
   },
   "outputs": [],
   "source": [
    "tweets = collect_results(rule,\n",
    "                         max_results=100,\n",
    "                         resut_stream_args=enterprise_search_args) # change this if you need to"
   ]
  },
  {
   "cell_type": "markdown",
   "metadata": {},
   "source": [
    "By default, tweet payloads are lazily parsed into a `Tweet` object. An overwhelming number of tweet attributes are made available directly, as such:"
   ]
  },
  {
   "cell_type": "code",
   "execution_count": 33,
   "metadata": {},
   "outputs": [
    {
     "name": "stdout",
     "output_type": "stream",
     "text": [
      "3 years ago today, beyonce surprise dropped the fastest selling album on itunes EVER then posted this on instagram like nothing happened https://t.co/F416MG2aCZ\n",
      ".@Beyonce sells OVER 80,000 copies of her new album in 3 hours: http://t.co/PKSARIvE67\n",
      "Perfect Duet with Beyonce and Ed Sheeran is the perfect combo ughhh\n",
      "As we celebrate the anniversary of 'BEYONCE,' I would just like to say that it is easily THE swankiest vinyl I own.\n",
      "Beyonce talks about natural disasters and climate change at 'Hand In Hand' Harvey Relief Telethon https://t.co/rP0wTIoUGx\n",
      "Perfect Duet (with Beyonce) by Ed Sheeran is number 2 in Austria #iTunes top 100 songs https://t.co/qqlBFLHpzl\n",
      "beyonce has truly delivered within the past week https://t.co/DDboQFBIgG\n",
      "I'll never forget waking up in the morning to a number of tweets from my friends. I was so confused. I switched on my computer, got onto iTunes and there it was... Beyonce EVERYWHERE! I screamed &amp; jumped up &amp; down in excitement and disbelief! Iconic! https://t.co/peN7Oyc5po\n",
      "Beyonce explaining her intent behind the BEYONCE visual album &amp; how she wanted to reinstate the idea of an album release as a significant, exciting event which had lost meaning in the face of hype created around singles.  https://t.co/pK2MB35vYl\n",
      "i had like 25 dollars in my account and used half of them to buy that album. songs AND VIDEOS??? BEYONCE WYD???? Man what a night.\n",
      "Ed Sheeran released the song without Beyonce and it didn't go #1. He released the song with Beyonce and it did go #1. it's clear and simple. he needed her to go #1 https://t.co/RteEZBzJu8\n"
     ]
    }
   ],
   "source": [
    "[print(unidecode(tweet.all_text)) for tweet in tweets[0:10]];"
   ]
  },
  {
   "cell_type": "code",
   "execution_count": 54,
   "metadata": {},
   "outputs": [
    {
     "name": "stdout",
     "output_type": "stream",
     "text": [
      "2017-10-27 18:22:07\n",
      "2017-10-27 18:17:37\n",
      "2017-10-27 01:25:39\n",
      "2017-10-26 14:24:05\n",
      "2017-10-26 13:50:40\n",
      "2017-10-26 13:36:19\n",
      "2017-10-26 13:35:57\n",
      "2017-10-26 02:40:25\n",
      "2017-10-26 00:07:23\n",
      "2017-10-25 20:15:19\n"
     ]
    }
   ],
   "source": [
    "[print(tweet.created_at_datetime) for tweet in tweets[0:10]];"
   ]
  },
  {
   "cell_type": "code",
   "execution_count": 56,
   "metadata": {},
   "outputs": [
    {
     "name": "stdout",
     "output_type": "stream",
     "text": [
      "Twitter for iPhone\n",
      "Twitter for iPhone\n",
      "Twitter for iPhone\n",
      "Twitter for iPhone\n",
      "Twitter for iPhone\n",
      "Twitter for iPhone\n",
      "Twitter for iPhone\n",
      "Twitter for iPhone\n",
      "Twitter for iPhone\n",
      "Twitter for iPhone\n"
     ]
    }
   ],
   "source": [
    "[print(tweet.generator.get(\"name\")) for tweet in tweets[0:10]];"
   ]
  },
  {
   "cell_type": "markdown",
   "metadata": {},
   "source": [
    "Voila, we have some tweets. For interactive environments and other cases where you don't care about collecting your data in a single load or don't need to operate on the stream of tweets or counts directly, I recommend using this convenience function.\n",
    "\n",
    "\n",
    "## Working with the ResultStream\n",
    "\n",
    "The ResultStream object will be powered by the `search_args`, and takes the rules and other configuration parameters, including a hard stop on number of pages to limit your API call usage."
   ]
  },
  {
   "cell_type": "code",
   "execution_count": 34,
   "metadata": {
    "collapsed": true
   },
   "outputs": [],
   "source": [
    "rs = ResultStream(rule_payload=rule,\n",
    "                  max_results=500,\n",
    "                  max_pages=1,\n",
    "                  **premium_search_args)"
   ]
  },
  {
   "cell_type": "code",
   "execution_count": 35,
   "metadata": {},
   "outputs": [
    {
     "name": "stdout",
     "output_type": "stream",
     "text": [
      "ResultStream: \n",
      "\t{\n",
      "    \"username\":null,\n",
      "    \"endpoint\":\"https:\\/\\/api.twitter.com\\/1.1\\/tweets\\/search\\/30day\\/dev.json\",\n",
      "    \"rule_payload\":{\n",
      "        \"query\":\"beyonce\",\n",
      "        \"maxResults\":100\n",
      "    },\n",
      "    \"tweetify\":true,\n",
      "    \"max_results\":500\n",
      "}\n"
     ]
    }
   ],
   "source": [
    "print(rs)"
   ]
  },
  {
   "cell_type": "markdown",
   "metadata": {},
   "source": [
    "There is a function, `.stream`, that seamlessly handles requests and pagination for a given query. It returns a generator, and to grab our 500 tweets that mention `beyonce` we can do this:"
   ]
  },
  {
   "cell_type": "code",
   "execution_count": 36,
   "metadata": {},
   "outputs": [],
   "source": [
    "tweets = list(rs.stream())"
   ]
  },
  {
   "cell_type": "markdown",
   "metadata": {},
   "source": [
    "Tweets are lazily parsed using our Tweet Parser, so tweet data is very easily extractable."
   ]
  },
  {
   "cell_type": "code",
   "execution_count": 41,
   "metadata": {},
   "outputs": [
    {
     "name": "stdout",
     "output_type": "stream",
     "text": [
      "BEYONCE WANTS ME DEAD https://t.co/6ztOJpz9dt\n",
      "in my college dorm and the Beyonce album popped up on iTunes and I thought it was fake because there was a Drake feature and I was like \"bey would never\" LITTLE DID I KNOW.... then this bitch gon post vegan cupcakes on instagram like she didn't just fuck the industry up... https://t.co/tRNo4O11uh\n",
      "When in doubt , watch a Beyonce documentary .\n",
      "Beyonce changed the game w/ that digital drop 4 years ago today! \n",
      "\n",
      "* #1 debut on Billboard\n",
      "* Sold 617K in the US / over 828K WW in only 3 days\n",
      "* Fastest-selling album on iTunes of all time\n",
      "* Reached #1 in 118 countries\n",
      "* Widespread acclaim; hailed as her magnum opus https://t.co/lDCdVs6em3\n",
      "Beyonce x JAY Z  https://t.co/czJoAwt4eJ\n",
      "On this very day 4 years ago, as we were finishing up Scandal season finale and putting on our bonnets and Durags to sleep Beyonce said https://t.co/YFBGRmTWVY\n",
      "Everyone: *still dragging Jay for cheating*\n",
      "\n",
      "Beyonce: https://t.co/2z1ltlMQiJ\n",
      "quem e que tem dificuldades a admitir que a beyonce e a voz mais iconica da nossa geracao\n",
      "Beyonce on how nervous she was to release her self-titled... https://t.co/fru23c6DYC\n",
      "i'm bout to jump into my feelings because four years ago today i was so broke and dusty and beyonce came into my life and took the pain away.\n"
     ]
    }
   ],
   "source": [
    "# using unidecode to prevent emoji/accents printing \n",
    "[print(unidecode(tweet.all_text)) for tweet in tweets[0:10]];"
   ]
  },
  {
   "cell_type": "markdown",
   "metadata": {},
   "source": [
    "## Counts API\n",
    "\n",
    "We can also use the counts api to get counts of tweets that match our rule. Each request will return up to *30* results, and each count request can be done on a minutely, hourly, or daily basis. There is a utility function that will convert your regular endpoint to the count endpoint.\n",
    "\n",
    "The process is very similar to grabbing tweets, but has some minor differneces.\n",
    "\n",
    "\n",
    "**Caveat - premium sandbox environments do NOT have access to the counts API.**\n",
    "\n"
   ]
  },
  {
   "cell_type": "code",
   "execution_count": 45,
   "metadata": {},
   "outputs": [],
   "source": [
    "count_rule = gen_rule_payload(\"beyonce\", count_bucket=\"day\")\n",
    "\n",
    "counts = collect_results(count_rule, result_stream_args=enterprise_count_args)"
   ]
  },
  {
   "cell_type": "markdown",
   "metadata": {},
   "source": [
    "Our results are pretty straightforward and can be rapidly used."
   ]
  },
  {
   "cell_type": "code",
   "execution_count": 46,
   "metadata": {},
   "outputs": [
    {
     "data": {
      "text/plain": [
       "[{'count': 68745, 'timePeriod': '201712130000'},\n",
       " {'count': 95305, 'timePeriod': '201712120000'},\n",
       " {'count': 114641, 'timePeriod': '201712110000'},\n",
       " {'count': 166070, 'timePeriod': '201712100000'},\n",
       " {'count': 102049, 'timePeriod': '201712090000'},\n",
       " {'count': 87710, 'timePeriod': '201712080000'},\n",
       " {'count': 196157, 'timePeriod': '201712070000'},\n",
       " {'count': 210664, 'timePeriod': '201712060000'},\n",
       " {'count': 88572, 'timePeriod': '201712050000'},\n",
       " {'count': 96794, 'timePeriod': '201712040000'},\n",
       " {'count': 177595, 'timePeriod': '201712030000'},\n",
       " {'count': 120102, 'timePeriod': '201712020000'},\n",
       " {'count': 186758, 'timePeriod': '201712010000'},\n",
       " {'count': 151212, 'timePeriod': '201711300000'},\n",
       " {'count': 79311, 'timePeriod': '201711290000'},\n",
       " {'count': 107175, 'timePeriod': '201711280000'},\n",
       " {'count': 58192, 'timePeriod': '201711270000'},\n",
       " {'count': 48327, 'timePeriod': '201711260000'},\n",
       " {'count': 59638, 'timePeriod': '201711250000'},\n",
       " {'count': 85201, 'timePeriod': '201711240000'},\n",
       " {'count': 91542, 'timePeriod': '201711230000'},\n",
       " {'count': 64129, 'timePeriod': '201711220000'},\n",
       " {'count': 92065, 'timePeriod': '201711210000'},\n",
       " {'count': 101617, 'timePeriod': '201711200000'},\n",
       " {'count': 84733, 'timePeriod': '201711190000'},\n",
       " {'count': 74887, 'timePeriod': '201711180000'},\n",
       " {'count': 76091, 'timePeriod': '201711170000'},\n",
       " {'count': 81849, 'timePeriod': '201711160000'},\n",
       " {'count': 58423, 'timePeriod': '201711150000'},\n",
       " {'count': 78004, 'timePeriod': '201711140000'},\n",
       " {'count': 118078, 'timePeriod': '201711130000'}]"
      ]
     },
     "execution_count": 46,
     "metadata": {},
     "output_type": "execute_result"
    }
   ],
   "source": [
    "counts"
   ]
  },
  {
   "cell_type": "markdown",
   "metadata": {},
   "source": [
    "## Dated searches / Full Archive Search\n",
    "\n",
    "\n",
    "Let's make a new rule and pass it dates this time.\n",
    "\n",
    "`gen_rule_payload` takes dates of the forms `YYYY-mm-DD` and `YYYYmmDD`.\n",
    "\n",
    "\n",
    "**Note that this will only work with the full archive search option**, which is available to my account only via the enterprise options. Full archive search will likely require a different endpoint or access method; please see your developer console for details."
   ]
  },
  {
   "cell_type": "code",
   "execution_count": 48,
   "metadata": {},
   "outputs": [
    {
     "name": "stdout",
     "output_type": "stream",
     "text": [
      "{\"query\":\"from:jack\",\"maxResults\":500,\"toDate\":\"201710300000\",\"fromDate\":\"201709010000\"}\n"
     ]
    }
   ],
   "source": [
    "rule = gen_rule_payload(\"from:jack\", from_date=\"2017-09-01\", to_date=\"2017-10-30\", results_per_call=500)\n",
    "print(rule)"
   ]
  },
  {
   "cell_type": "code",
   "execution_count": 49,
   "metadata": {},
   "outputs": [],
   "source": [
    "tweets = collect_results(rule, max_results=500, result_stream_args=enterprise_search_args)"
   ]
  },
  {
   "cell_type": "code",
   "execution_count": 51,
   "metadata": {},
   "outputs": [
    {
     "name": "stdout",
     "output_type": "stream",
     "text": [
      "More clarity on our private information policy and enforcement. Working to build as much direct context into the product too https://t.co/IrwBexPrBA\n",
      "To provide more clarity on our private information policy, we've added specific examples of what is/is not a violation and insight into what we need to remove this type of content from the service. https://t.co/NGx5hh2tTQ\n",
      "Launching violent groups and hateful images/symbols policy on November 22nd https://t.co/NaWuBPxyO5\n",
      "We will now launch our policies on violent groups and hateful imagery and hate symbols on Nov 22. During the development process, we received valuable feedback that we're implementing before these are published and enforced. See more on our policy development process here  https://t.co/wx3EeH39BI\n",
      "@WillStick @lizkelley Happy birthday Liz!\n",
      "Off-boarding advertising from all accounts owned by Russia Today (RT) and Sputnik.\n",
      "\n",
      "We're donating all projected earnings ($1.9mm) to support external research into the use of Twitter in elections, including use of malicious automation and misinformation. https://t.co/zIxfqqXCZr\n",
      "@TMFJMo @anthonynoto Thank you\n",
      "@gasca @stratechery @Lefsetz letter\n",
      "@gasca @stratechery Bridgewater's Daily Observations\n",
      "Yup!!!! [?][?][?][?] #davechappelle https://t.co/ybSGNrQpYF\n",
      "@ndimichino Sometimes\n",
      "Setting up at @CampFlogGnaw https://t.co/nVq8QjkKsf\n"
     ]
    }
   ],
   "source": [
    "# usiing unidecode only to \n",
    "[print(unidecode(tweet.all_text)) for tweet in tweets[0:10]];"
   ]
  }
 ],
 "metadata": {
  "kernelspec": {
   "display_name": "Python 3",
   "language": "python",
   "name": "python3"
  },
  "language_info": {
   "codemirror_mode": {
    "name": "ipython",
    "version": 3
   },
   "file_extension": ".py",
   "mimetype": "text/x-python",
   "name": "python",
   "nbconvert_exporter": "python",
   "pygments_lexer": "ipython3",
   "version": "3.6.1"
  }
 },
 "nbformat": 4,
 "nbformat_minor": 2
}
